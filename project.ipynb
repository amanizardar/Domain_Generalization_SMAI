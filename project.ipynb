{
  "nbformat": 4,
  "nbformat_minor": 0,
  "metadata": {
    "colab": {
      "name": "project.ipynb",
      "provenance": [],
      "collapsed_sections": []
    },
    "kernelspec": {
      "name": "python3",
      "display_name": "Python 3"
    },
    "language_info": {
      "name": "python"
    }
  },
  "cells": [
    {
      "cell_type": "code",
      "execution_count": null,
      "metadata": {
        "id": "8oiXfrNFQGSf"
      },
      "outputs": [],
      "source": [
        "dataset={}\n",
        "dataset[\"PACS\"] = [\"art_painting\", \"cartoon\", \"photo\", \"sketch\"]\n",
        "x=dataset[\"PACS\"]"
      ]
    },
    {
      "cell_type": "code",
      "source": [
        "print(x)\n",
        "print(type(x))\n",
        "print(len(x))"
      ],
      "metadata": {
        "id": "iUeuoN0UBMVN"
      },
      "execution_count": null,
      "outputs": []
    },
    {
      "cell_type": "code",
      "source": [
        "print(x[-1])"
      ],
      "metadata": {
        "id": "VN_sGn3jDXmE"
      },
      "execution_count": null,
      "outputs": []
    },
    {
      "cell_type": "code",
      "source": [
        "from matplotlib import pyplot as plt\n",
        "from PIL import Image\n",
        "import numpy as np\n",
        "\n",
        "\n",
        "import os"
      ],
      "metadata": {
        "id": "mpOrVWYnaua-"
      },
      "execution_count": 7,
      "outputs": []
    },
    {
      "cell_type": "code",
      "source": [
        "class_dict={\n",
        "    \"dog\":0,\n",
        "    \"elephant\":1,\n",
        "    \"giraffe\":2,\n",
        "    \"guitar\":3,\n",
        "    \"horse\":4,\n",
        "    \"house\":5,\n",
        "    \"person\":6\n",
        "}"
      ],
      "metadata": {
        "id": "CyK6d8hN_w4a"
      },
      "execution_count": 13,
      "outputs": []
    },
    {
      "cell_type": "code",
      "source": [
        "opt = {\n",
        "    'image_size': 32,\n",
        "    'is_grayscale': False,\n",
        "    'val_split': 0.75\n",
        "}\n",
        "def load_image(path):\n",
        "    im = Image.open(path).convert('L' if opt['is_grayscale'] else 'RGB')\n",
        "    im = im.resize((opt['image_size'],opt['image_size']))\n",
        "    im = np.array(im)\n",
        "    im = im/256\n",
        "    return im\n",
        "def display_images(imgs,classes,row=1,col=2,w=3,h=3):\n",
        "    fig=plt.figure(figsize=(2, 2))\n",
        "    for i in range(1, col*row +1):\n",
        "        img = imgs[i-1]\n",
        "        fig.add_subplot(row, col, i)\n",
        "        \n",
        "        if opt['is_grayscale']:\n",
        "            plt.imshow(img , cmap='gray') \n",
        "        else:\n",
        "            plt.imshow(img)\n",
        "        \n",
        "        # plt.title(\"Class:{}\".format(classes[i-1]))\n",
        "        # plt.axis('off')\n",
        "    plt.show()\n",
        "\n",
        "def load_data(dir_path,class_name):\n",
        "    image_list = []\n",
        "    y_list = []\n",
        "    filenames=[]\n",
        "    label_dict = class_dict\n",
        "    for filename in sorted(os.listdir(dir_path)):\n",
        "        if filename.endswith(\".jpg\") or filename.endswith(\".png\"):\n",
        "            im = load_image(os.path.join(dir_path,filename))\n",
        "            # y = filename.split('_')[0]\n",
        "            y = label_dict[class_name] \n",
        "            image_list.append(im)\n",
        "            filenames.append(filename)\n",
        "            y_list.append(y)\n",
        "        else:\n",
        "            continue\n",
        "    image_list = np.array(image_list)\n",
        "    y_list = np.array(y_list)\n",
        "    print(\"Dataset shape:\",image_list.shape)\n",
        "    #print(\"Label shape:\",y_list.shape)\n",
        "\n",
        "    return image_list,y_list,filenames"
      ],
      "metadata": {
        "id": "wJH5xT5Ca0cd"
      },
      "execution_count": 14,
      "outputs": []
    },
    {
      "cell_type": "code",
      "source": [
        "dirpath = '/content/drive/MyDrive/smai/PACS/pacs_data/photo/giraffe/'\n",
        "# dirpath='/content/drive/MyDrive/smai/PACS/pacs_data/sketch/elephant/'\n",
        "X,y,filenames = load_data(dirpath,\"giraffe\")"
      ],
      "metadata": {
        "id": "2zrHHZ9jcDsL",
        "colab": {
          "base_uri": "https://localhost:8080/"
        },
        "outputId": "6246b060-5184-449f-f2b8-d4f5f53d23cc"
      },
      "execution_count": 19,
      "outputs": [
        {
          "output_type": "stream",
          "name": "stdout",
          "text": [
            "Dataset shape: (182, 32, 32, 3)\n",
            "Label shape: (182,)\n"
          ]
        }
      ]
    },
    {
      "cell_type": "code",
      "source": [
        "print(y)"
      ],
      "metadata": {
        "colab": {
          "base_uri": "https://localhost:8080/"
        },
        "id": "7vuHYXntAvUR",
        "outputId": "53fd26f2-a9bb-4d41-9a44-ab0b95a2296d"
      },
      "execution_count": 20,
      "outputs": [
        {
          "output_type": "stream",
          "name": "stdout",
          "text": [
            "[2 2 2 2 2 2 2 2 2 2 2 2 2 2 2 2 2 2 2 2 2 2 2 2 2 2 2 2 2 2 2 2 2 2 2 2 2\n",
            " 2 2 2 2 2 2 2 2 2 2 2 2 2 2 2 2 2 2 2 2 2 2 2 2 2 2 2 2 2 2 2 2 2 2 2 2 2\n",
            " 2 2 2 2 2 2 2 2 2 2 2 2 2 2 2 2 2 2 2 2 2 2 2 2 2 2 2 2 2 2 2 2 2 2 2 2 2\n",
            " 2 2 2 2 2 2 2 2 2 2 2 2 2 2 2 2 2 2 2 2 2 2 2 2 2 2 2 2 2 2 2 2 2 2 2 2 2\n",
            " 2 2 2 2 2 2 2 2 2 2 2 2 2 2 2 2 2 2 2 2 2 2 2 2 2 2 2 2 2 2 2 2 2 2]\n"
          ]
        }
      ]
    },
    {
      "cell_type": "code",
      "source": [
        "len(filenames)\n",
        "print(filenames)"
      ],
      "metadata": {
        "id": "1f3Ct20UkYOA"
      },
      "execution_count": null,
      "outputs": []
    },
    {
      "cell_type": "code",
      "source": [
        "# print(X[0].shape)\n",
        "print(type(X))"
      ],
      "metadata": {
        "id": "ts1W-tIHeWVm"
      },
      "execution_count": null,
      "outputs": []
    },
    {
      "cell_type": "code",
      "source": [
        "display_images(X,0)"
      ],
      "metadata": {
        "id": "JuxTmu3dcqg9"
      },
      "execution_count": null,
      "outputs": []
    },
    {
      "cell_type": "code",
      "source": [
        "class_labels=[\"dog\",\"elephant\",\"giraffe\",\"guitar\",\"horse\",\"house\",\"person\"]\n",
        "data_types=[\"art_painting\",\"cartoon\",\"photo\",'sketch']"
      ],
      "metadata": {
        "id": "JUY-Ddbfffeo"
      },
      "execution_count": 9,
      "outputs": []
    },
    {
      "cell_type": "code",
      "source": [
        "path=\"/content/drive/MyDrive/smai/PACS/pacs_data/\""
      ],
      "metadata": {
        "id": "EfBd_N25uNnA"
      },
      "execution_count": 1,
      "outputs": []
    },
    {
      "cell_type": "code",
      "source": [
        "# complete_data=[]\n",
        "art_train=[]\n",
        "art_val=[]\n",
        "art_test=[]\n",
        "cartoon_train=[]\n",
        "cartoon_val=[]\n",
        "cartoon_test=[]\n",
        "photo_train=[]\n",
        "photo_val=[]\n",
        "photo_test=[]\n",
        "# cartoon_train=[]\n",
        "# cartoon_val=[]\n",
        "# cartoon_test=[]\n",
        "# complete_art=[]\n",
        "\n"
      ],
      "metadata": {
        "id": "PMo8PAMcxecn"
      },
      "execution_count": 40,
      "outputs": []
    },
    {
      "cell_type": "code",
      "source": [
        "for data_type in data_types:\n",
        "  complete_data=[]\n",
        "  y_labels=[]\n",
        "  print(data_type)\n",
        "  for class_label in class_labels:\n",
        "    new_path=path+\"/\"+data_type+\"/\"+class_label+\"/\"\n",
        "    X,y,filenames = load_data(new_path,class_label)\n",
        "    \n",
        "    # complete_data.append(X)\n",
        "    #display_images(X,0)\n",
        "    # len=len(X)\n",
        "    for i in X:\n",
        "      complete_data.append(i)\n",
        "    for j in y:\n",
        "      y_labels.append(j)\n",
        "  if data_type==\"art_painting\":\n",
        "    complete_art=complete_data\n",
        "    complete_art_labels=y_labels\n",
        "  if data_type==\"cartoon\":\n",
        "    complete_cartoon=complete_data\n",
        "    complete_cartoon_labels=y_labels\n",
        "  if data_type==\"photo\":\n",
        "    complete_photo=complete_data\n",
        "    complete_photo_labels=y_labels\n",
        "  if data_type==\"sketch\":\n",
        "    complete_sketch=complete_data\n",
        "    complete_sketch_labels=y_labels\n",
        "  \n",
        "\n",
        "\n"
      ],
      "metadata": {
        "id": "nPLkytP9tame",
        "colab": {
          "base_uri": "https://localhost:8080/"
        },
        "outputId": "527fafdb-1cb6-436e-c8f4-4a3e17b034c3"
      },
      "execution_count": 39,
      "outputs": [
        {
          "output_type": "stream",
          "name": "stdout",
          "text": [
            "art_painting\n",
            "Dataset shape: (379, 32, 32, 3)\n",
            "Label shape: (379,)\n",
            "Dataset shape: (255, 32, 32, 3)\n",
            "Label shape: (255,)\n",
            "Dataset shape: (285, 32, 32, 3)\n",
            "Label shape: (285,)\n",
            "Dataset shape: (184, 32, 32, 3)\n",
            "Label shape: (184,)\n",
            "Dataset shape: (201, 32, 32, 3)\n",
            "Label shape: (201,)\n",
            "Dataset shape: (295, 32, 32, 3)\n",
            "Label shape: (295,)\n",
            "Dataset shape: (449, 32, 32, 3)\n",
            "Label shape: (449,)\n",
            "cartoon\n",
            "Dataset shape: (389, 32, 32, 3)\n",
            "Label shape: (389,)\n",
            "Dataset shape: (457, 32, 32, 3)\n",
            "Label shape: (457,)\n",
            "Dataset shape: (346, 32, 32, 3)\n",
            "Label shape: (346,)\n",
            "Dataset shape: (135, 32, 32, 3)\n",
            "Label shape: (135,)\n",
            "Dataset shape: (324, 32, 32, 3)\n",
            "Label shape: (324,)\n",
            "Dataset shape: (288, 32, 32, 3)\n",
            "Label shape: (288,)\n",
            "Dataset shape: (405, 32, 32, 3)\n",
            "Label shape: (405,)\n",
            "photo\n",
            "Dataset shape: (189, 32, 32, 3)\n",
            "Label shape: (189,)\n",
            "Dataset shape: (202, 32, 32, 3)\n",
            "Label shape: (202,)\n",
            "Dataset shape: (182, 32, 32, 3)\n",
            "Label shape: (182,)\n",
            "Dataset shape: (186, 32, 32, 3)\n",
            "Label shape: (186,)\n",
            "Dataset shape: (199, 32, 32, 3)\n",
            "Label shape: (199,)\n",
            "Dataset shape: (280, 32, 32, 3)\n",
            "Label shape: (280,)\n",
            "Dataset shape: (432, 32, 32, 3)\n",
            "Label shape: (432,)\n",
            "sketch\n",
            "Dataset shape: (772, 32, 32, 3)\n",
            "Label shape: (772,)\n",
            "Dataset shape: (740, 32, 32, 3)\n",
            "Label shape: (740,)\n",
            "Dataset shape: (753, 32, 32, 3)\n",
            "Label shape: (753,)\n",
            "Dataset shape: (608, 32, 32, 3)\n",
            "Label shape: (608,)\n",
            "Dataset shape: (816, 32, 32, 3)\n",
            "Label shape: (816,)\n",
            "Dataset shape: (80, 32, 32, 3)\n",
            "Label shape: (80,)\n",
            "Dataset shape: (160, 32, 32, 3)\n",
            "Label shape: (160,)\n"
          ]
        }
      ]
    },
    {
      "cell_type": "code",
      "source": [
        "complete_photo=np.array(complete_photo)\n",
        "complete_photo_labels=np.array(complete_photo_labels)\n",
        "print(complete_photo.shape)\n",
        "print(complete_photo_labels.shape)\n",
        "print(complete_photo_labels)"
      ],
      "metadata": {
        "colab": {
          "base_uri": "https://localhost:8080/"
        },
        "id": "7kZm1G-MCB3C",
        "outputId": "e7561a3b-ba40-4d4a-f919-e34b9be79646"
      },
      "execution_count": 37,
      "outputs": [
        {
          "output_type": "stream",
          "name": "stdout",
          "text": [
            "(1670, 32, 32, 3)\n",
            "(1670,)\n",
            "[0 0 0 ... 6 6 6]\n"
          ]
        }
      ]
    },
    {
      "cell_type": "code",
      "source": [
        "#for verification\n",
        "count=[0,0,0,0,0,0,0]\n",
        "for i in complete_photo_labels:\n",
        "  count[i]=count[i]+1\n",
        "print(count)"
      ],
      "metadata": {
        "colab": {
          "base_uri": "https://localhost:8080/"
        },
        "id": "assIX94hFqZ9",
        "outputId": "f97f3dc6-288a-46f9-93b0-29cfce02ae1a"
      },
      "execution_count": 38,
      "outputs": [
        {
          "output_type": "stream",
          "name": "stdout",
          "text": [
            "[189, 202, 182, 186, 199, 280, 432]\n"
          ]
        }
      ]
    },
    {
      "cell_type": "code",
      "source": [
        "plt.figure(figsize = (2,2))\n",
        "plt.imshow(X[0])"
      ],
      "metadata": {
        "id": "ElneBzAV5TJF"
      },
      "execution_count": null,
      "outputs": []
    }
  ]
}